{
 "cells": [
  {
   "cell_type": "code",
   "execution_count": 1,
   "metadata": {},
   "outputs": [],
   "source": [
    "import re\n",
    "semantic=[]\n",
    "bagofwords=[]\n",
    "wordembedding=[]\n",
    "labels = []\n",
    "count=100-1\n",
    "import numpy as np\n",
    "from random import randint"
   ]
  },
  {
   "cell_type": "code",
   "execution_count": 2,
   "metadata": {},
   "outputs": [],
   "source": [
    "def readdata(filename):\n",
    " mynumber = []\n",
    " with open(filename) as f:\n",
    "    for line in f:\n",
    "        mynumber.extend([n for n in line.strip().split('_')])\n",
    " mynumber = [x.strip(' ') for x in mynumber]\n",
    " mynumber = mynumber[:-1]\n",
    " mynumber = list(map(float, mynumber))\n",
    " return mynumber\n",
    "def votingsystem(svm,naive,trees,nearest):\n",
    "    vector=[]\n",
    "    for i in range(0,count):\n",
    "     if (svm[i]+naive[i]+trees[i]+nearest[i])>2:\n",
    "        vector.insert(i,1)\n",
    "     elif (svm[i]+naive[i]+trees[i]+nearest[i])<2:\n",
    "        vector.insert(i,0)\n",
    "     else: \n",
    "        vector.insert(i,randint(0, 1))\n",
    "    return vector\n",
    "def votingsystem1(bag,semantic,word):\n",
    "    vector=[]\n",
    "    for i in range(0,count):\n",
    "     if (bag[i]+semantic[i]+word[i])>1:\n",
    "        vector.insert(i,1)\n",
    "     else:\n",
    "        vector.insert(i,0)\n",
    "    return vector"
   ]
  },
  {
   "cell_type": "code",
   "execution_count": 5,
   "metadata": {},
   "outputs": [
    {
     "name": "stdout",
     "output_type": "stream",
     "text": [
      "the vote on semantic\n",
      "[1, 1, 0, 1, 1, 1, 1, 0, 1, 0, 1, 1, 0, 1, 0, 1, 1, 0, 0, 1, 1, 0, 1, 0, 1, 1, 0, 1, 1, 0, 1, 1, 1, 1, 1, 0, 1, 1, 1, 0, 1, 1, 1, 1, 1, 0, 0, 0, 1, 0, 1, 0, 0, 0, 0, 1, 1, 1, 0, 1, 0, 1, 1, 0, 0, 1, 0, 1, 1, 0, 1, 1, 1, 1, 1, 1, 0, 1, 1, 1, 1, 1, 0, 1, 1, 1, 1, 0, 0, 0, 1, 1, 0, 1, 1, 0, 1, 1, 1]\n",
      "the vote on bag of words\n",
      "[1, 1, 0, 1, 0, 1, 1, 1, 0, 1, 1, 0, 1, 0, 1, 0, 1, 0, 0, 1, 0, 1, 0, 1, 0, 1, 0, 0, 1, 0, 1, 1, 1, 0, 0, 1, 1, 0, 0, 1, 1, 1, 0, 1, 0, 0, 0, 0, 1, 1, 1, 1, 0, 1, 1, 0, 0, 0, 1, 0, 1, 0, 0, 0, 0, 1, 1, 0, 1, 0, 0, 0, 1, 1, 0, 0, 1, 0, 0, 0, 0, 0, 1, 1, 1, 1, 0, 0, 0, 1, 0, 1, 1, 1, 1, 1, 0, 0, 0]\n",
      "the vote on wordembedding\n",
      "[0, 0, 1, 1, 1, 0, 0, 0, 0, 1, 0, 0, 0, 1, 0, 0, 0, 0, 0, 0, 0, 1, 1, 1, 1, 0, 0, 1, 0, 1, 0, 1, 0, 0, 1, 1, 0, 0, 0, 1, 1, 1, 1, 0, 0, 0, 1, 1, 0, 1, 0, 0, 0, 1, 0, 0, 0, 0, 0, 1, 0, 0, 1, 0, 0, 0, 0, 0, 0, 1, 0, 0, 0, 0, 0, 0, 0, 1, 0, 0, 1, 0, 0, 1, 1, 0, 1, 1, 0, 1, 1, 0, 1, 0, 1, 0, 0, 1, 0]\n"
     ]
    }
   ],
   "source": [
    "svm =readdata(\"svm.txt\")\n",
    "naive =readdata( \"naive.txt\")\n",
    "trees =readdata( \"trees.txt\")\n",
    "nearest=readdata( \"nearest.txt\")\n",
    "semantic=votingsystem(svm,naive,trees,nearest)\n",
    "print('the vote on semantic')\n",
    "print(semantic)\n",
    "svm =readdata(\"svm-emb.txt\")\n",
    "naive=readdata( \"naive-emb.txt\")\n",
    "trees =readdata( \"trees-emb.txt\")\n",
    "nearest=readdata( \"nearest-emb.txt\")\n",
    "bagofwords=votingsystem(svm,naive,trees,nearest)\n",
    "print('the vote on bag of words')\n",
    "print(bagofwords)\n",
    "svm =readdata(\"svm-bag.txt\")\n",
    "naive1 =readdata( \"naive-bag.txt\")\n",
    "trees=readdata( \"trees-bag.txt\")\n",
    "nearest=readdata( \"nearest-bag.txt\")\n",
    "wordembedding=votingsystem(svm,naive1,trees,nearest)\n",
    "print('the vote on wordembedding')\n",
    "print(wordembedding)\n",
    "totalvotes=votingsystem1(semantic,wordembedding,bagofwords)\n"
   ]
  },
  {
   "cell_type": "code",
   "execution_count": 6,
   "metadata": {},
   "outputs": [
    {
     "name": "stdout",
     "output_type": "stream",
     "text": [
      "real label\n",
      "[0, 0, 1, 1, 1, 0, 0, 1, 0, 0, 0, 1, 0, 0, 1, 1, 0, 1, 0, 1, 1, 1, 1, 1, 1, 0, 0, 1, 1, 1, 1, 1, 0, 0, 1, 1, 1, 0, 1, 1, 1, 0, 0, 1, 0, 0, 0, 0, 1, 0, 0, 0, 0, 0, 0, 1, 0, 1, 0, 1, 0, 1, 1, 0, 0, 0, 0, 0, 1, 1, 0, 0, 0, 0, 1, 0, 1, 1, 0, 0, 0, 1, 0, 0, 1, 0, 0, 1, 0, 1, 0, 0, 1, 1, 1, 0, 0, 0, 0, 0]\n",
      "TOTAL VOTE RESULT\n",
      "[1, 1, 0, 1, 1, 1, 1, 0, 0, 1, 1, 0, 0, 1, 0, 0, 1, 0, 0, 1, 0, 1, 1, 1, 1, 1, 0, 1, 1, 0, 1, 1, 1, 0, 1, 1, 1, 0, 0, 1, 1, 1, 1, 1, 0, 0, 0, 0, 1, 1, 1, 0, 0, 1, 0, 0, 0, 0, 0, 1, 0, 0, 1, 0, 0, 1, 0, 0, 1, 0, 0, 0, 1, 1, 0, 0, 0, 1, 0, 0, 1, 0, 0, 1, 1, 1, 1, 0, 0, 1, 1, 1, 1, 1, 1, 0, 0, 1, 0]\n",
      "TOTAL ACCURACY\n",
      "57\n",
      "TOTAL ERROR\n",
      "42\n"
     ]
    }
   ],
   "source": [
    "with open(\"SemEval2018-T3-train-taskA.txt\", encoding=\"utf8\") as ins:\n",
    "    array = []\n",
    "    tweets=[]\n",
    "    X=[]\n",
    "    for line in ins:\n",
    "        new = re.split(r'\\t+', line.rstrip('\\t'))\n",
    "        labels.append(new[1])\n",
    "        label=new[1]\n",
    "        array.append(new[2])\n",
    "del labels[0]\n",
    "labels = list(map(int, labels))\n",
    "Y1 = labels[-100:]\n",
    "print('real label')\n",
    "print(Y1)\n",
    "totalvotes=list(map(int,totalvotes))\n",
    "print(\"TOTAL VOTE RESULT\")\n",
    "print(totalvotes)\n",
    "print('TOTAL ACCURACY')\n",
    "right=0\n",
    "wrong=0\n",
    "for i in range(0,count):\n",
    "    if Y1[i] == totalvotes[i]:\n",
    "        right+=1\n",
    "    else :\n",
    "        wrong +=1     \n",
    "print(right)\n",
    "print('TOTAL ERROR')\n",
    "print(wrong)\n",
    "tweets=array[-100:]\n",
    "file = open(\"predictions-taskA.txt\",\"w\") \n",
    "#naive1= list(map(int, naive1))\n",
    "for i in range(0,count):\n",
    "  #file.write(\"%d \" %totalvotes[i])\n",
    "  file.write(\"%d \" %totalvotes[i])\n",
    "  file.write(tweets[i])\n",
    "file.close()\n"
   ]
  },
  {
   "cell_type": "code",
   "execution_count": null,
   "metadata": {},
   "outputs": [],
   "source": []
  }
 ],
 "metadata": {
  "kernelspec": {
   "display_name": "Python 3",
   "language": "python",
   "name": "python3"
  },
  "language_info": {
   "codemirror_mode": {
    "name": "ipython",
    "version": 3
   },
   "file_extension": ".py",
   "mimetype": "text/x-python",
   "name": "python",
   "nbconvert_exporter": "python",
   "pygments_lexer": "ipython3",
   "version": "3.7.4"
  }
 },
 "nbformat": 4,
 "nbformat_minor": 2
}
